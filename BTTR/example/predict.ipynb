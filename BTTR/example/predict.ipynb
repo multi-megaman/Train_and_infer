{
 "cells": [
  {
   "cell_type": "code",
   "execution_count": 27,
   "metadata": {},
   "outputs": [],
   "source": [
    "from bttr.lit_bttr import LitBTTR\n",
    "from bttr.datamodule import vocab\n",
    "from PIL import Image, ImageOps\n",
    "from torchvision.transforms import ToTensor\n",
    "import torch\n",
    "import cv2"
   ]
  },
  {
   "cell_type": "code",
   "execution_count": 57,
   "metadata": {},
   "outputs": [],
   "source": [
    "ckpt = '..\\\\checkpoints\\\\bttr_exemple\\\\bttr_exemple.ckpt'\n",
    "img_path = '33.png'\n",
    "#img_path = '18_em_1.bmp'"
   ]
  },
  {
   "cell_type": "code",
   "execution_count": 4,
   "metadata": {},
   "outputs": [
    {
     "name": "stderr",
     "output_type": "stream",
     "text": [
      "c:\\Users\\01011000\\AppData\\Local\\anaconda3\\envs\\SAN\\lib\\site-packages\\pytorch_lightning\\utilities\\migration\\migration.py:201: PossibleUserWarning: You have multiple `ModelCheckpoint` callback states in this checkpoint, but we found state keys that would end up colliding with each other after an upgrade, which means we can't differentiate which of your checkpoint callbacks needs which states. At least one of your `ModelCheckpoint` callbacks will not be able to reload the state.\n",
      "  rank_zero_warn(\n",
      "Lightning automatically upgraded your loaded checkpoint from v1.3.5 to v2.0.2. To apply the upgrade to your files permanently, run `python -m pytorch_lightning.utilities.upgrade_checkpoint --file c:\\Users\\01011000\\Documents\\GitHub\\Train_and_infer\\checkpoints\\bttr_exemple\\bttr_exemple.ckpt`\n"
     ]
    }
   ],
   "source": [
    "model = LitBTTR.load_from_checkpoint(ckpt, map_location=torch.device('cpu'))\n",
    "\n",
    "#Repare que esse trecho abaixo tem no notebook do CoMER, mas não no do BTTR. Verifica com calma a diferença de rodar com e sem.\n",
    "#model = model.eval()\n",
    "#device = torch.device(\"cpu\")\n",
    "#model = model.to(device)"
   ]
  },
  {
   "cell_type": "code",
   "execution_count": 58,
   "metadata": {},
   "outputs": [],
   "source": [
    "img = cv2.imread(img_path)\n",
    "img = cv2.cvtColor(img, cv2.COLOR_BGR2GRAY)\n",
    "img = cv2.resize(img, (150,150), interpolation=cv2.INTER_AREA)\n",
    "img = Image.fromarray(img)\n",
    "# img = Image.open(img_path)\n",
    "# img = ImageOps.grayscale(img) #lembra de converter para cinza\n",
    "# img = ImageOps.pad(img,(150,150),method=Image.Resampling.BICUBIC) \n",
    "\n",
    "#Lembra de também converter para o tamanho que usamos no treinamento: (150,150)."
   ]
  },
  {
   "cell_type": "code",
   "execution_count": 59,
   "metadata": {},
   "outputs": [
    {
     "data": {
      "image/png": "[encoded data removed]",
      "text/plain": [
       "<PIL.Image.Image image mode=L size=150x150>"
      ]
     },
     "execution_count": 59,
     "metadata": {},
     "output_type": "execute_result"
    }
   ],
   "source": [
    "img"
   ]
  },
  {
   "cell_type": "code",
   "execution_count": 60,
   "metadata": {},
   "outputs": [],
   "source": [
    "img = ToTensor()(img)"
   ]
  },
  {
   "cell_type": "code",
   "execution_count": 61,
   "metadata": {},
   "outputs": [
    {
     "name": "stderr",
     "output_type": "stream",
     "text": [
      "c:\\Users\\01011000\\AppData\\Local\\anaconda3\\envs\\SAN\\lib\\site-packages\\torch\\nn\\functional.py:4999: UserWarning: Support for mismatched key_padding_mask and attn_mask is deprecated. Use same type for both instead.\n",
      "  warnings.warn(\n"
     ]
    }
   ],
   "source": [
    "#beam_size é um parâmetro que variamos com optuna: pode ser 10 (default) ou 5\n",
    "beam_size = 10\n",
    "\n",
    "#max_len e alpha a gente não mexe: usamos esses valores fixos\n",
    "max_len = 200\n",
    "alpha = 1.0\n",
    "\n",
    "mask = torch.zeros_like(img, dtype=torch.bool)#repare aqui que eu troquei para bool (comparei com o do CoMER e com a funcao collate_fn em datamodule.py)\n",
    "hyps = model.bttr.beam_search(img.unsqueeze(0), mask, beam_size, max_len)\n",
    "best_hyp = max(hyps, key=lambda h: h.score / (len(h) ** alpha))\n",
    "hyp = vocab.indices2label(best_hyp.seq)"
   ]
  },
  {
   "cell_type": "code",
   "execution_count": 62,
   "metadata": {},
   "outputs": [
    {
     "ename": "AssertionError",
     "evalue": "only bool and floating types of key_padding_mask are supported",
     "output_type": "error",
     "traceback": [
      "\u001b[1;31m---------------------------------------------------------------------------\u001b[0m",
      "\u001b[1;31mAssertionError\u001b[0m                            Traceback (most recent call last)",
      "Cell \u001b[1;32mIn[62], line 2\u001b[0m\n\u001b[0;32m      1\u001b[0m \u001b[39m#Isso aqui dá erro. A célula de cima é o ajuste para rodar\u001b[39;00m\n\u001b[1;32m----> 2\u001b[0m hyp \u001b[39m=\u001b[39m model\u001b[39m.\u001b[39;49mbeam_search(img)\n",
      "File \u001b[1;32mc:\\Users\\01011000\\Documents\\GitHub\\Train_and_infer\\BTTR\\bttr\\lit_bttr.py:96\u001b[0m, in \u001b[0;36mLitBTTR.beam_search\u001b[1;34m(self, img, beam_size, max_len, alpha)\u001b[0m\n\u001b[0;32m     94\u001b[0m \u001b[39massert\u001b[39;00m img\u001b[39m.\u001b[39mdim() \u001b[39m==\u001b[39m \u001b[39m3\u001b[39m\n\u001b[0;32m     95\u001b[0m img_mask \u001b[39m=\u001b[39m torch\u001b[39m.\u001b[39mzeros_like(img, dtype\u001b[39m=\u001b[39mtorch\u001b[39m.\u001b[39mlong)  \u001b[39m# squeeze channel\u001b[39;00m\n\u001b[1;32m---> 96\u001b[0m hyps \u001b[39m=\u001b[39m \u001b[39mself\u001b[39;49m\u001b[39m.\u001b[39;49mbttr\u001b[39m.\u001b[39;49mbeam_search(img\u001b[39m.\u001b[39;49munsqueeze(\u001b[39m0\u001b[39;49m), img_mask, beam_size, max_len)\n\u001b[0;32m     97\u001b[0m best_hyp \u001b[39m=\u001b[39m \u001b[39mmax\u001b[39m(hyps, key\u001b[39m=\u001b[39m\u001b[39mlambda\u001b[39;00m h: h\u001b[39m.\u001b[39mscore \u001b[39m/\u001b[39m (\u001b[39mlen\u001b[39m(h) \u001b[39m*\u001b[39m\u001b[39m*\u001b[39m alpha))\n\u001b[0;32m     98\u001b[0m \u001b[39mreturn\u001b[39;00m vocab\u001b[39m.\u001b[39mindices2label(best_hyp\u001b[39m.\u001b[39mseq)\n",
      "File \u001b[1;32mc:\\Users\\01011000\\Documents\\GitHub\\Train_and_infer\\BTTR\\bttr\\model\\bttr.py:83\u001b[0m, in \u001b[0;36mBTTR.beam_search\u001b[1;34m(self, img, img_mask, beam_size, max_len)\u001b[0m\n\u001b[0;32m     67\u001b[0m \u001b[39m\u001b[39m\u001b[39m\"\"\"run bi-direction beam search for given img\u001b[39;00m\n\u001b[0;32m     68\u001b[0m \n\u001b[0;32m     69\u001b[0m \u001b[39mParameters\u001b[39;00m\n\u001b[1;32m   (...)\u001b[0m\n\u001b[0;32m     80\u001b[0m \u001b[39mList[Hypothesis]\u001b[39;00m\n\u001b[0;32m     81\u001b[0m \u001b[39m\"\"\"\u001b[39;00m\n\u001b[0;32m     82\u001b[0m feature, mask \u001b[39m=\u001b[39m \u001b[39mself\u001b[39m\u001b[39m.\u001b[39mencoder(img, img_mask)  \u001b[39m# [1, t, d]\u001b[39;00m\n\u001b[1;32m---> 83\u001b[0m \u001b[39mreturn\u001b[39;00m \u001b[39mself\u001b[39;49m\u001b[39m.\u001b[39;49mdecoder\u001b[39m.\u001b[39;49mbeam_search(feature, mask, beam_size, max_len)\n",
      "File \u001b[1;32mc:\\Users\\01011000\\Documents\\GitHub\\Train_and_infer\\BTTR\\bttr\\model\\decoder.py:295\u001b[0m, in \u001b[0;36mDecoder.beam_search\u001b[1;34m(self, src, mask, beam_size, max_len)\u001b[0m\n\u001b[0;32m    277\u001b[0m \u001b[39mdef\u001b[39;00m \u001b[39mbeam_search\u001b[39m(\n\u001b[0;32m    278\u001b[0m     \u001b[39mself\u001b[39m, src: FloatTensor, mask: LongTensor, beam_size: \u001b[39mint\u001b[39m, max_len: \u001b[39mint\u001b[39m\n\u001b[0;32m    279\u001b[0m ) \u001b[39m-\u001b[39m\u001b[39m>\u001b[39m List[Hypothesis]:\n\u001b[0;32m    280\u001b[0m \u001b[39m    \u001b[39m\u001b[39m\"\"\"run beam search for src img\u001b[39;00m\n\u001b[0;32m    281\u001b[0m \n\u001b[0;32m    282\u001b[0m \u001b[39m    Parameters\u001b[39;00m\n\u001b[1;32m   (...)\u001b[0m\n\u001b[0;32m    293\u001b[0m \u001b[39m    List[Hypothesis]\u001b[39;00m\n\u001b[0;32m    294\u001b[0m \u001b[39m    \"\"\"\u001b[39;00m\n\u001b[1;32m--> 295\u001b[0m     l2r_hypos \u001b[39m=\u001b[39m \u001b[39mself\u001b[39;49m\u001b[39m.\u001b[39;49m_beam_search(src, mask, \u001b[39m\"\u001b[39;49m\u001b[39ml2r\u001b[39;49m\u001b[39m\"\u001b[39;49m, beam_size, max_len)\n\u001b[0;32m    296\u001b[0m     \u001b[39mself\u001b[39m\u001b[39m.\u001b[39m_cross_rate_score(src, mask, l2r_hypos, direction\u001b[39m=\u001b[39m\u001b[39m\"\u001b[39m\u001b[39mr2l\u001b[39m\u001b[39m\"\u001b[39m)\n\u001b[0;32m    298\u001b[0m     r2l_hypos \u001b[39m=\u001b[39m \u001b[39mself\u001b[39m\u001b[39m.\u001b[39m_beam_search(src, mask, \u001b[39m\"\u001b[39m\u001b[39mr2l\u001b[39m\u001b[39m\"\u001b[39m, beam_size, max_len)\n",
      "File \u001b[1;32mc:\\Users\\01011000\\Documents\\GitHub\\Train_and_infer\\BTTR\\bttr\\model\\decoder.py:180\u001b[0m, in \u001b[0;36mDecoder._beam_search\u001b[1;34m(self, src, mask, direction, beam_size, max_len)\u001b[0m\n\u001b[0;32m    177\u001b[0m exp_src \u001b[39m=\u001b[39m repeat(src\u001b[39m.\u001b[39msqueeze(\u001b[39m0\u001b[39m), \u001b[39m\"\u001b[39m\u001b[39ms e -> b s e\u001b[39m\u001b[39m\"\u001b[39m, b\u001b[39m=\u001b[39mhyp_num)\n\u001b[0;32m    178\u001b[0m exp_mask \u001b[39m=\u001b[39m repeat(mask\u001b[39m.\u001b[39msqueeze(\u001b[39m0\u001b[39m), \u001b[39m\"\u001b[39m\u001b[39ms -> b s\u001b[39m\u001b[39m\"\u001b[39m, b\u001b[39m=\u001b[39mhyp_num)\n\u001b[1;32m--> 180\u001b[0m decode_outputs \u001b[39m=\u001b[39m \u001b[39mself\u001b[39;49m(exp_src, exp_mask, hypotheses)[:, t, :]\n\u001b[0;32m    181\u001b[0m log_p_t \u001b[39m=\u001b[39m F\u001b[39m.\u001b[39mlog_softmax(decode_outputs, dim\u001b[39m=\u001b[39m\u001b[39m-\u001b[39m\u001b[39m1\u001b[39m)\n\u001b[0;32m    183\u001b[0m live_hyp_num \u001b[39m=\u001b[39m beam_size \u001b[39m-\u001b[39m \u001b[39mlen\u001b[39m(completed_hypotheses)\n",
      "File \u001b[1;32mc:\\Users\\01011000\\AppData\\Local\\anaconda3\\envs\\SAN\\lib\\site-packages\\torch\\nn\\modules\\module.py:1501\u001b[0m, in \u001b[0;36mModule._call_impl\u001b[1;34m(self, *args, **kwargs)\u001b[0m\n\u001b[0;32m   1496\u001b[0m \u001b[39m# If we don't have any hooks, we want to skip the rest of the logic in\u001b[39;00m\n\u001b[0;32m   1497\u001b[0m \u001b[39m# this function, and just call forward.\u001b[39;00m\n\u001b[0;32m   1498\u001b[0m \u001b[39mif\u001b[39;00m \u001b[39mnot\u001b[39;00m (\u001b[39mself\u001b[39m\u001b[39m.\u001b[39m_backward_hooks \u001b[39mor\u001b[39;00m \u001b[39mself\u001b[39m\u001b[39m.\u001b[39m_backward_pre_hooks \u001b[39mor\u001b[39;00m \u001b[39mself\u001b[39m\u001b[39m.\u001b[39m_forward_hooks \u001b[39mor\u001b[39;00m \u001b[39mself\u001b[39m\u001b[39m.\u001b[39m_forward_pre_hooks\n\u001b[0;32m   1499\u001b[0m         \u001b[39mor\u001b[39;00m _global_backward_pre_hooks \u001b[39mor\u001b[39;00m _global_backward_hooks\n\u001b[0;32m   1500\u001b[0m         \u001b[39mor\u001b[39;00m _global_forward_hooks \u001b[39mor\u001b[39;00m _global_forward_pre_hooks):\n\u001b[1;32m-> 1501\u001b[0m     \u001b[39mreturn\u001b[39;00m forward_call(\u001b[39m*\u001b[39;49margs, \u001b[39m*\u001b[39;49m\u001b[39m*\u001b[39;49mkwargs)\n\u001b[0;32m   1502\u001b[0m \u001b[39m# Do not call functions when jit is used\u001b[39;00m\n\u001b[0;32m   1503\u001b[0m full_backward_hooks, non_full_backward_hooks \u001b[39m=\u001b[39m [], []\n",
      "File \u001b[1;32mc:\\Users\\01011000\\Documents\\GitHub\\Train_and_infer\\BTTR\\bttr\\model\\decoder.py:111\u001b[0m, in \u001b[0;36mDecoder.forward\u001b[1;34m(self, src, src_mask, tgt)\u001b[0m\n\u001b[0;32m    108\u001b[0m src \u001b[39m=\u001b[39m rearrange(src, \u001b[39m\"\u001b[39m\u001b[39mb t d -> t b d\u001b[39m\u001b[39m\"\u001b[39m)\n\u001b[0;32m    109\u001b[0m tgt \u001b[39m=\u001b[39m rearrange(tgt, \u001b[39m\"\u001b[39m\u001b[39mb l d -> l b d\u001b[39m\u001b[39m\"\u001b[39m)\n\u001b[1;32m--> 111\u001b[0m out \u001b[39m=\u001b[39m \u001b[39mself\u001b[39;49m\u001b[39m.\u001b[39;49mmodel(\n\u001b[0;32m    112\u001b[0m     tgt\u001b[39m=\u001b[39;49mtgt,\n\u001b[0;32m    113\u001b[0m     memory\u001b[39m=\u001b[39;49msrc,\n\u001b[0;32m    114\u001b[0m     tgt_mask\u001b[39m=\u001b[39;49mtgt_mask,\n\u001b[0;32m    115\u001b[0m     tgt_key_padding_mask\u001b[39m=\u001b[39;49mtgt_pad_mask,\n\u001b[0;32m    116\u001b[0m     memory_key_padding_mask\u001b[39m=\u001b[39;49msrc_mask,\n\u001b[0;32m    117\u001b[0m )\n\u001b[0;32m    119\u001b[0m out \u001b[39m=\u001b[39m rearrange(out, \u001b[39m\"\u001b[39m\u001b[39ml b d -> b l d\u001b[39m\u001b[39m\"\u001b[39m)\n\u001b[0;32m    120\u001b[0m out \u001b[39m=\u001b[39m \u001b[39mself\u001b[39m\u001b[39m.\u001b[39mproj(out)\n",
      "File \u001b[1;32mc:\\Users\\01011000\\AppData\\Local\\anaconda3\\envs\\SAN\\lib\\site-packages\\torch\\nn\\modules\\module.py:1501\u001b[0m, in \u001b[0;36mModule._call_impl\u001b[1;34m(self, *args, **kwargs)\u001b[0m\n\u001b[0;32m   1496\u001b[0m \u001b[39m# If we don't have any hooks, we want to skip the rest of the logic in\u001b[39;00m\n\u001b[0;32m   1497\u001b[0m \u001b[39m# this function, and just call forward.\u001b[39;00m\n\u001b[0;32m   1498\u001b[0m \u001b[39mif\u001b[39;00m \u001b[39mnot\u001b[39;00m (\u001b[39mself\u001b[39m\u001b[39m.\u001b[39m_backward_hooks \u001b[39mor\u001b[39;00m \u001b[39mself\u001b[39m\u001b[39m.\u001b[39m_backward_pre_hooks \u001b[39mor\u001b[39;00m \u001b[39mself\u001b[39m\u001b[39m.\u001b[39m_forward_hooks \u001b[39mor\u001b[39;00m \u001b[39mself\u001b[39m\u001b[39m.\u001b[39m_forward_pre_hooks\n\u001b[0;32m   1499\u001b[0m         \u001b[39mor\u001b[39;00m _global_backward_pre_hooks \u001b[39mor\u001b[39;00m _global_backward_hooks\n\u001b[0;32m   1500\u001b[0m         \u001b[39mor\u001b[39;00m _global_forward_hooks \u001b[39mor\u001b[39;00m _global_forward_pre_hooks):\n\u001b[1;32m-> 1501\u001b[0m     \u001b[39mreturn\u001b[39;00m forward_call(\u001b[39m*\u001b[39;49margs, \u001b[39m*\u001b[39;49m\u001b[39m*\u001b[39;49mkwargs)\n\u001b[0;32m   1502\u001b[0m \u001b[39m# Do not call functions when jit is used\u001b[39;00m\n\u001b[0;32m   1503\u001b[0m full_backward_hooks, non_full_backward_hooks \u001b[39m=\u001b[39m [], []\n",
      "File \u001b[1;32mc:\\Users\\01011000\\AppData\\Local\\anaconda3\\envs\\SAN\\lib\\site-packages\\torch\\nn\\modules\\transformer.py:360\u001b[0m, in \u001b[0;36mTransformerDecoder.forward\u001b[1;34m(self, tgt, memory, tgt_mask, memory_mask, tgt_key_padding_mask, memory_key_padding_mask)\u001b[0m\n\u001b[0;32m    357\u001b[0m output \u001b[39m=\u001b[39m tgt\n\u001b[0;32m    359\u001b[0m \u001b[39mfor\u001b[39;00m mod \u001b[39min\u001b[39;00m \u001b[39mself\u001b[39m\u001b[39m.\u001b[39mlayers:\n\u001b[1;32m--> 360\u001b[0m     output \u001b[39m=\u001b[39m mod(output, memory, tgt_mask\u001b[39m=\u001b[39;49mtgt_mask,\n\u001b[0;32m    361\u001b[0m                  memory_mask\u001b[39m=\u001b[39;49mmemory_mask,\n\u001b[0;32m    362\u001b[0m                  tgt_key_padding_mask\u001b[39m=\u001b[39;49mtgt_key_padding_mask,\n\u001b[0;32m    363\u001b[0m                  memory_key_padding_mask\u001b[39m=\u001b[39;49mmemory_key_padding_mask)\n\u001b[0;32m    365\u001b[0m \u001b[39mif\u001b[39;00m \u001b[39mself\u001b[39m\u001b[39m.\u001b[39mnorm \u001b[39mis\u001b[39;00m \u001b[39mnot\u001b[39;00m \u001b[39mNone\u001b[39;00m:\n\u001b[0;32m    366\u001b[0m     output \u001b[39m=\u001b[39m \u001b[39mself\u001b[39m\u001b[39m.\u001b[39mnorm(output)\n",
      "File \u001b[1;32mc:\\Users\\01011000\\AppData\\Local\\anaconda3\\envs\\SAN\\lib\\site-packages\\torch\\nn\\modules\\module.py:1501\u001b[0m, in \u001b[0;36mModule._call_impl\u001b[1;34m(self, *args, **kwargs)\u001b[0m\n\u001b[0;32m   1496\u001b[0m \u001b[39m# If we don't have any hooks, we want to skip the rest of the logic in\u001b[39;00m\n\u001b[0;32m   1497\u001b[0m \u001b[39m# this function, and just call forward.\u001b[39;00m\n\u001b[0;32m   1498\u001b[0m \u001b[39mif\u001b[39;00m \u001b[39mnot\u001b[39;00m (\u001b[39mself\u001b[39m\u001b[39m.\u001b[39m_backward_hooks \u001b[39mor\u001b[39;00m \u001b[39mself\u001b[39m\u001b[39m.\u001b[39m_backward_pre_hooks \u001b[39mor\u001b[39;00m \u001b[39mself\u001b[39m\u001b[39m.\u001b[39m_forward_hooks \u001b[39mor\u001b[39;00m \u001b[39mself\u001b[39m\u001b[39m.\u001b[39m_forward_pre_hooks\n\u001b[0;32m   1499\u001b[0m         \u001b[39mor\u001b[39;00m _global_backward_pre_hooks \u001b[39mor\u001b[39;00m _global_backward_hooks\n\u001b[0;32m   1500\u001b[0m         \u001b[39mor\u001b[39;00m _global_forward_hooks \u001b[39mor\u001b[39;00m _global_forward_pre_hooks):\n\u001b[1;32m-> 1501\u001b[0m     \u001b[39mreturn\u001b[39;00m forward_call(\u001b[39m*\u001b[39;49margs, \u001b[39m*\u001b[39;49m\u001b[39m*\u001b[39;49mkwargs)\n\u001b[0;32m   1502\u001b[0m \u001b[39m# Do not call functions when jit is used\u001b[39;00m\n\u001b[0;32m   1503\u001b[0m full_backward_hooks, non_full_backward_hooks \u001b[39m=\u001b[39m [], []\n",
      "File \u001b[1;32mc:\\Users\\01011000\\AppData\\Local\\anaconda3\\envs\\SAN\\lib\\site-packages\\torch\\nn\\modules\\transformer.py:699\u001b[0m, in \u001b[0;36mTransformerDecoderLayer.forward\u001b[1;34m(self, tgt, memory, tgt_mask, memory_mask, tgt_key_padding_mask, memory_key_padding_mask, tgt_is_causal, memory_is_causal)\u001b[0m\n\u001b[0;32m    697\u001b[0m \u001b[39melse\u001b[39;00m:\n\u001b[0;32m    698\u001b[0m     x \u001b[39m=\u001b[39m \u001b[39mself\u001b[39m\u001b[39m.\u001b[39mnorm1(x \u001b[39m+\u001b[39m \u001b[39mself\u001b[39m\u001b[39m.\u001b[39m_sa_block(x, tgt_mask, tgt_key_padding_mask, tgt_is_causal))\n\u001b[1;32m--> 699\u001b[0m     x \u001b[39m=\u001b[39m \u001b[39mself\u001b[39m\u001b[39m.\u001b[39mnorm2(x \u001b[39m+\u001b[39m \u001b[39mself\u001b[39;49m\u001b[39m.\u001b[39;49m_mha_block(x, memory, memory_mask, memory_key_padding_mask, memory_is_causal))\n\u001b[0;32m    700\u001b[0m     x \u001b[39m=\u001b[39m \u001b[39mself\u001b[39m\u001b[39m.\u001b[39mnorm3(x \u001b[39m+\u001b[39m \u001b[39mself\u001b[39m\u001b[39m.\u001b[39m_ff_block(x))\n\u001b[0;32m    702\u001b[0m \u001b[39mreturn\u001b[39;00m x\n",
      "File \u001b[1;32mc:\\Users\\01011000\\AppData\\Local\\anaconda3\\envs\\SAN\\lib\\site-packages\\torch\\nn\\modules\\transformer.py:717\u001b[0m, in \u001b[0;36mTransformerDecoderLayer._mha_block\u001b[1;34m(self, x, mem, attn_mask, key_padding_mask, is_causal)\u001b[0m\n\u001b[0;32m    715\u001b[0m \u001b[39mdef\u001b[39;00m \u001b[39m_mha_block\u001b[39m(\u001b[39mself\u001b[39m, x: Tensor, mem: Tensor,\n\u001b[0;32m    716\u001b[0m                attn_mask: Optional[Tensor], key_padding_mask: Optional[Tensor], is_causal: \u001b[39mbool\u001b[39m \u001b[39m=\u001b[39m \u001b[39mFalse\u001b[39;00m) \u001b[39m-\u001b[39m\u001b[39m>\u001b[39m Tensor:\n\u001b[1;32m--> 717\u001b[0m     x \u001b[39m=\u001b[39m \u001b[39mself\u001b[39;49m\u001b[39m.\u001b[39;49mmultihead_attn(x, mem, mem,\n\u001b[0;32m    718\u001b[0m                             attn_mask\u001b[39m=\u001b[39;49mattn_mask,\n\u001b[0;32m    719\u001b[0m                             key_padding_mask\u001b[39m=\u001b[39;49mkey_padding_mask,\n\u001b[0;32m    720\u001b[0m                             is_causal\u001b[39m=\u001b[39;49mis_causal,\n\u001b[0;32m    721\u001b[0m                             need_weights\u001b[39m=\u001b[39;49m\u001b[39mFalse\u001b[39;49;00m)[\u001b[39m0\u001b[39m]\n\u001b[0;32m    722\u001b[0m     \u001b[39mreturn\u001b[39;00m \u001b[39mself\u001b[39m\u001b[39m.\u001b[39mdropout2(x)\n",
      "File \u001b[1;32mc:\\Users\\01011000\\AppData\\Local\\anaconda3\\envs\\SAN\\lib\\site-packages\\torch\\nn\\modules\\module.py:1501\u001b[0m, in \u001b[0;36mModule._call_impl\u001b[1;34m(self, *args, **kwargs)\u001b[0m\n\u001b[0;32m   1496\u001b[0m \u001b[39m# If we don't have any hooks, we want to skip the rest of the logic in\u001b[39;00m\n\u001b[0;32m   1497\u001b[0m \u001b[39m# this function, and just call forward.\u001b[39;00m\n\u001b[0;32m   1498\u001b[0m \u001b[39mif\u001b[39;00m \u001b[39mnot\u001b[39;00m (\u001b[39mself\u001b[39m\u001b[39m.\u001b[39m_backward_hooks \u001b[39mor\u001b[39;00m \u001b[39mself\u001b[39m\u001b[39m.\u001b[39m_backward_pre_hooks \u001b[39mor\u001b[39;00m \u001b[39mself\u001b[39m\u001b[39m.\u001b[39m_forward_hooks \u001b[39mor\u001b[39;00m \u001b[39mself\u001b[39m\u001b[39m.\u001b[39m_forward_pre_hooks\n\u001b[0;32m   1499\u001b[0m         \u001b[39mor\u001b[39;00m _global_backward_pre_hooks \u001b[39mor\u001b[39;00m _global_backward_hooks\n\u001b[0;32m   1500\u001b[0m         \u001b[39mor\u001b[39;00m _global_forward_hooks \u001b[39mor\u001b[39;00m _global_forward_pre_hooks):\n\u001b[1;32m-> 1501\u001b[0m     \u001b[39mreturn\u001b[39;00m forward_call(\u001b[39m*\u001b[39;49margs, \u001b[39m*\u001b[39;49m\u001b[39m*\u001b[39;49mkwargs)\n\u001b[0;32m   1502\u001b[0m \u001b[39m# Do not call functions when jit is used\u001b[39;00m\n\u001b[0;32m   1503\u001b[0m full_backward_hooks, non_full_backward_hooks \u001b[39m=\u001b[39m [], []\n",
      "File \u001b[1;32mc:\\Users\\01011000\\AppData\\Local\\anaconda3\\envs\\SAN\\lib\\site-packages\\torch\\nn\\modules\\activation.py:1083\u001b[0m, in \u001b[0;36mMultiheadAttention.forward\u001b[1;34m(self, query, key, value, key_padding_mask, need_weights, attn_mask, average_attn_weights, is_causal)\u001b[0m\n\u001b[0;32m   1079\u001b[0m     \u001b[39mraise\u001b[39;00m \u001b[39mAssertionError\u001b[39;00m(\u001b[39m\"\u001b[39m\u001b[39mOnly allow causal mask or attn_mask\u001b[39m\u001b[39m\"\u001b[39m)\n\u001b[0;32m   1081\u001b[0m is_batched \u001b[39m=\u001b[39m query\u001b[39m.\u001b[39mdim() \u001b[39m==\u001b[39m \u001b[39m3\u001b[39m\n\u001b[1;32m-> 1083\u001b[0m key_padding_mask \u001b[39m=\u001b[39m F\u001b[39m.\u001b[39;49m_canonical_mask(\n\u001b[0;32m   1084\u001b[0m     mask\u001b[39m=\u001b[39;49mkey_padding_mask,\n\u001b[0;32m   1085\u001b[0m     mask_name\u001b[39m=\u001b[39;49m\u001b[39m\"\u001b[39;49m\u001b[39mkey_padding_mask\u001b[39;49m\u001b[39m\"\u001b[39;49m,\n\u001b[0;32m   1086\u001b[0m     other_type\u001b[39m=\u001b[39;49mF\u001b[39m.\u001b[39;49m_none_or_dtype(attn_mask),\n\u001b[0;32m   1087\u001b[0m     other_name\u001b[39m=\u001b[39;49m\u001b[39m\"\u001b[39;49m\u001b[39mattn_mask\u001b[39;49m\u001b[39m\"\u001b[39;49m,\n\u001b[0;32m   1088\u001b[0m     target_type\u001b[39m=\u001b[39;49mquery\u001b[39m.\u001b[39;49mdtype\n\u001b[0;32m   1089\u001b[0m )\n\u001b[0;32m   1091\u001b[0m why_not_fast_path \u001b[39m=\u001b[39m \u001b[39m'\u001b[39m\u001b[39m'\u001b[39m\n\u001b[0;32m   1092\u001b[0m \u001b[39mif\u001b[39;00m \u001b[39mnot\u001b[39;00m is_batched:\n",
      "File \u001b[1;32mc:\\Users\\01011000\\AppData\\Local\\anaconda3\\envs\\SAN\\lib\\site-packages\\torch\\nn\\functional.py:4995\u001b[0m, in \u001b[0;36m_canonical_mask\u001b[1;34m(mask, mask_name, other_type, other_name, target_type, check_other)\u001b[0m\n\u001b[0;32m   4993\u001b[0m _mask_is_float \u001b[39m=\u001b[39m torch\u001b[39m.\u001b[39mis_floating_point(mask)\n\u001b[0;32m   4994\u001b[0m \u001b[39mif\u001b[39;00m _mask_dtype \u001b[39m!=\u001b[39m torch\u001b[39m.\u001b[39mbool \u001b[39mand\u001b[39;00m \u001b[39mnot\u001b[39;00m _mask_is_float:\n\u001b[1;32m-> 4995\u001b[0m     \u001b[39mraise\u001b[39;00m \u001b[39mAssertionError\u001b[39;00m(\n\u001b[0;32m   4996\u001b[0m         \u001b[39mf\u001b[39m\u001b[39m\"\u001b[39m\u001b[39monly bool and floating types of \u001b[39m\u001b[39m{\u001b[39;00mmask_name\u001b[39m}\u001b[39;00m\u001b[39m are supported\u001b[39m\u001b[39m\"\u001b[39m)\n\u001b[0;32m   4997\u001b[0m \u001b[39mif\u001b[39;00m check_other \u001b[39mand\u001b[39;00m other_type \u001b[39mis\u001b[39;00m \u001b[39mnot\u001b[39;00m \u001b[39mNone\u001b[39;00m:\n\u001b[0;32m   4998\u001b[0m     \u001b[39mif\u001b[39;00m _mask_dtype \u001b[39m!=\u001b[39m other_type:\n",
      "\u001b[1;31mAssertionError\u001b[0m: only bool and floating types of key_padding_mask are supported"
     ]
    }
   ],
   "source": [
    "#Isso aqui dá erro. A célula de cima é o ajuste para rodar\n",
    "hyp = model.beam_search(img)"
   ]
  },
  {
   "cell_type": "code",
   "execution_count": 63,
   "metadata": {},
   "outputs": [
    {
     "name": "stdout",
     "output_type": "stream",
     "text": [
      "\\overset { 1 } { 1 } 8 + 1 5 = 3 3\n"
     ]
    }
   ],
   "source": [
    "print(hyp)"
   ]
  },
  {
   "cell_type": "code",
   "execution_count": null,
   "metadata": {},
   "outputs": [],
   "source": []
  }
 ],
 "metadata": {
  "kernelspec": {
   "display_name": "bttr",
   "language": "python",
   "name": "python3"
  },
  "language_info": {
   "codemirror_mode": {
    "name": "ipython",
    "version": 3
   },
   "file_extension": ".py",
   "mimetype": "text/x-python",
   "name": "python",
   "nbconvert_exporter": "python",
   "pygments_lexer": "ipython3",
   "version": "3.8.16"
  },
  "metadata": {
   "interpreter": {
    "hash": "5c10e69c8be8251d2427514ec023c1218910a696d384ef8f31a18bcc6602a077"
   }
  },
  "orig_nbformat": 2
 },
 "nbformat": 4,
 "nbformat_minor": 2
}
